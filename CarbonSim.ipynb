{
 "cells": [
  {
   "cell_type": "code",
   "execution_count": 57,
   "id": "217fa069-c5ee-4a17-ab66-c18c2551e591",
   "metadata": {},
   "outputs": [],
   "source": [
    "import mbuild as mb\n",
    "import numpy as np\n",
    "from scipy.spatial.distance import pdist\n",
    "import gsd.hoomd\n",
    "\n",
    "\n",
    "class LinearCarbonChain(mb.Compound):\n",
    "    def __init__(self, n_atoms=10):\n",
    "        super().__init__()\n",
    "        for i in range(n_atoms):\n",
    "            self.add(mb.Particle(name=\"C\", pos=[i, 0, 0]))\n",
    "            if i > 0:\n",
    "                self.add_bond((self[-2], self[-1]))\n",
    "\n",
    "class CarbonChainSystem:\n",
    "    def __init__(self, n_atoms=10, buffer=1.05):\n",
    "        if buffer <= 1.0:\n",
    "            raise ValueError()\n",
    "        self.n_atoms = n_atoms\n",
    "        self.buffer = buffer\n",
    "        self.chain = LinearCarbonChain(n_atoms=self.n_atoms)\n",
    "        self.system = self._build_system()\n",
    "\n",
    "    def _build_system(self):\n",
    "        coords = self.chain.xyz\n",
    "        eucl_dist = pdist(coords)\n",
    "        chain_length = np.max(eucl_dist)\n",
    "        box = mb.Box(lengths=np.array([chain_length] * 3) * self.buffer)\n",
    "\n",
    "        comp = mb.Compound()\n",
    "        comp.add(self.chain)\n",
    "        comp.box = box\n",
    "        self.chain.translate_to([box.Lx / 2, box.Ly / 2, box.Lz / 2])\n",
    "        return comp\n",
    "\n",
    "    def save_gsd(self, filename=\"carbon_chain.gsd\"):\n",
    "        self.system.save(filename, overwrite=True)\n",
    "\n",
    "if __name__ == \"__main__\":\n",
    "    system = CarbonChainSystem(n_atoms=10, buffer=1.2)\n",
    "    system.save_gsd(\"carbon_chain.gsd\")\n"
   ]
  },
  {
   "cell_type": "code",
   "execution_count": null,
   "id": "e4420853-39e4-421c-bcd3-9fccd6897d80",
   "metadata": {},
   "outputs": [],
   "source": []
  }
 ],
 "metadata": {
  "kernelspec": {
   "display_name": "Python 3 (ipykernel)",
   "language": "python",
   "name": "python3"
  },
  "language_info": {
   "codemirror_mode": {
    "name": "ipython",
    "version": 3
   },
   "file_extension": ".py",
   "mimetype": "text/x-python",
   "name": "python",
   "nbconvert_exporter": "python",
   "pygments_lexer": "ipython3",
   "version": "3.12.0"
  }
 },
 "nbformat": 4,
 "nbformat_minor": 5
}
