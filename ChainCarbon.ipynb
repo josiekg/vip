{
 "cells": [
  {
   "cell_type": "code",
   "execution_count": 92,
   "id": "7ecd6901-c8aa-442f-bcf3-0b609d49cea5",
   "metadata": {},
   "outputs": [
    {
     "data": {
      "application/3dmoljs_load.v0": "<div id=\"3dmolviewer_17489903196566231\"  style=\"position: relative; width: 640px; height: 480px;\">\n        <p id=\"3dmolwarning_17489903196566231\" style=\"background-color:#ffcccc;color:black\">3Dmol.js failed to load for some reason.  Please check your browser console for error messages.<br></p>\n        </div>\n<script>\n\nvar loadScriptAsync = function(uri){\n  return new Promise((resolve, reject) => {\n    //this is to ignore the existence of requirejs amd\n    var savedexports, savedmodule;\n    if (typeof exports !== 'undefined') savedexports = exports;\n    else exports = {}\n    if (typeof module !== 'undefined') savedmodule = module;\n    else module = {}\n\n    var tag = document.createElement('script');\n    tag.src = uri;\n    tag.async = true;\n    tag.onload = () => {\n        exports = savedexports;\n        module = savedmodule;\n        resolve();\n    };\n  var firstScriptTag = document.getElementsByTagName('script')[0];\n  firstScriptTag.parentNode.insertBefore(tag, firstScriptTag);\n});\n};\n\nif(typeof $3Dmolpromise === 'undefined') {\n$3Dmolpromise = null;\n  $3Dmolpromise = loadScriptAsync('https://cdnjs.cloudflare.com/ajax/libs/3Dmol/2.4.2/3Dmol-min.js');\n}\n\nvar viewer_17489903196566231 = null;\nvar warn = document.getElementById(\"3dmolwarning_17489903196566231\");\nif(warn) {\n    warn.parentNode.removeChild(warn);\n}\n$3Dmolpromise.then(function() {\nviewer_17489903196566231 = $3Dmol.createViewer(document.getElementById(\"3dmolviewer_17489903196566231\"),{backgroundColor:\"white\"});\nviewer_17489903196566231.zoomTo();\n\tviewer_17489903196566231.addModel(\"@<TRIPOS>MOLECULE\\nRES\\n10 9 1 0 1\\nSMALL\\nNO_CHARGES\\n@<TRIPOS>CRYSIN\\n   95.0000     6.0000     6.0000    90.0000    90.0000    90.0000 1 1\\n@<TRIPOS>ATOM\\n       1 C            0.0000     0.0000     0.0000 C             1 RES     \\n       2 C           10.0000     0.0000     0.0000 C             1 RES     \\n       3 C           20.0000     0.0000     0.0000 C             1 RES     \\n       4 C           30.0000     0.0000     0.0000 C             1 RES     \\n       5 C           40.0000     0.0000     0.0000 C             1 RES     \\n       6 C           50.0000     0.0000     0.0000 C             1 RES     \\n       7 C           60.0000     0.0000     0.0000 C             1 RES     \\n       8 C           70.0000     0.0000     0.0000 C             1 RES     \\n       9 C           80.0000     0.0000     0.0000 C             1 RES     \\n      10 C           90.0000     0.0000     0.0000 C             1 RES     \\n@<TRIPOS>BOND\\n       1        1        2 1\\n       2        2        3 1\\n       3        3        4 1\\n       4        4        5 1\\n       5        5        6 1\\n       6        6        7 1\\n       7        7        8 1\\n       8        8        9 1\\n       9        9       10 1\\n@<TRIPOS>SUBSTRUCTURE\\n       1 RES             1 RESIDUE    0 **** ROOT      0\\n\",\"mol2\");\n\tviewer_17489903196566231.setStyle({\"stick\": {\"radius\": 0.18, \"color\": \"grey\"}, \"sphere\": {\"scale\": 0.3, \"colorscheme\": {}}});\n\tviewer_17489903196566231.zoomTo();\nviewer_17489903196566231.render();\n});\n</script>",
      "text/html": [
       "<div id=\"3dmolviewer_17489903196566231\"  style=\"position: relative; width: 640px; height: 480px;\">\n",
       "        <p id=\"3dmolwarning_17489903196566231\" style=\"background-color:#ffcccc;color:black\">3Dmol.js failed to load for some reason.  Please check your browser console for error messages.<br></p>\n",
       "        </div>\n",
       "<script>\n",
       "\n",
       "var loadScriptAsync = function(uri){\n",
       "  return new Promise((resolve, reject) => {\n",
       "    //this is to ignore the existence of requirejs amd\n",
       "    var savedexports, savedmodule;\n",
       "    if (typeof exports !== 'undefined') savedexports = exports;\n",
       "    else exports = {}\n",
       "    if (typeof module !== 'undefined') savedmodule = module;\n",
       "    else module = {}\n",
       "\n",
       "    var tag = document.createElement('script');\n",
       "    tag.src = uri;\n",
       "    tag.async = true;\n",
       "    tag.onload = () => {\n",
       "        exports = savedexports;\n",
       "        module = savedmodule;\n",
       "        resolve();\n",
       "    };\n",
       "  var firstScriptTag = document.getElementsByTagName('script')[0];\n",
       "  firstScriptTag.parentNode.insertBefore(tag, firstScriptTag);\n",
       "});\n",
       "};\n",
       "\n",
       "if(typeof $3Dmolpromise === 'undefined') {\n",
       "$3Dmolpromise = null;\n",
       "  $3Dmolpromise = loadScriptAsync('https://cdnjs.cloudflare.com/ajax/libs/3Dmol/2.4.2/3Dmol-min.js');\n",
       "}\n",
       "\n",
       "var viewer_17489903196566231 = null;\n",
       "var warn = document.getElementById(\"3dmolwarning_17489903196566231\");\n",
       "if(warn) {\n",
       "    warn.parentNode.removeChild(warn);\n",
       "}\n",
       "$3Dmolpromise.then(function() {\n",
       "viewer_17489903196566231 = $3Dmol.createViewer(document.getElementById(\"3dmolviewer_17489903196566231\"),{backgroundColor:\"white\"});\n",
       "viewer_17489903196566231.zoomTo();\n",
       "\tviewer_17489903196566231.addModel(\"@<TRIPOS>MOLECULE\\nRES\\n10 9 1 0 1\\nSMALL\\nNO_CHARGES\\n@<TRIPOS>CRYSIN\\n   95.0000     6.0000     6.0000    90.0000    90.0000    90.0000 1 1\\n@<TRIPOS>ATOM\\n       1 C            0.0000     0.0000     0.0000 C             1 RES     \\n       2 C           10.0000     0.0000     0.0000 C             1 RES     \\n       3 C           20.0000     0.0000     0.0000 C             1 RES     \\n       4 C           30.0000     0.0000     0.0000 C             1 RES     \\n       5 C           40.0000     0.0000     0.0000 C             1 RES     \\n       6 C           50.0000     0.0000     0.0000 C             1 RES     \\n       7 C           60.0000     0.0000     0.0000 C             1 RES     \\n       8 C           70.0000     0.0000     0.0000 C             1 RES     \\n       9 C           80.0000     0.0000     0.0000 C             1 RES     \\n      10 C           90.0000     0.0000     0.0000 C             1 RES     \\n@<TRIPOS>BOND\\n       1        1        2 1\\n       2        2        3 1\\n       3        3        4 1\\n       4        4        5 1\\n       5        5        6 1\\n       6        6        7 1\\n       7        7        8 1\\n       8        8        9 1\\n       9        9       10 1\\n@<TRIPOS>SUBSTRUCTURE\\n       1 RES             1 RESIDUE    0 **** ROOT      0\\n\",\"mol2\");\n",
       "\tviewer_17489903196566231.setStyle({\"stick\": {\"radius\": 0.18, \"color\": \"grey\"}, \"sphere\": {\"scale\": 0.3, \"colorscheme\": {}}});\n",
       "\tviewer_17489903196566231.zoomTo();\n",
       "viewer_17489903196566231.render();\n",
       "});\n",
       "</script>"
      ]
     },
     "metadata": {},
     "output_type": "display_data"
    },
    {
     "data": {
      "text/plain": [
       "<py3Dmol.view at 0x15f173ad0>"
      ]
     },
     "execution_count": 92,
     "metadata": {},
     "output_type": "execute_result"
    }
   ],
   "source": [
    "import mbuild as mb\n",
    "import numpy as np\n",
    "\n",
    "class CC(mb.Compound):\n",
    "    def __init__(self):\n",
    "        super(CC, self).__init__()\n",
    "\n",
    "        for i in range(10):\n",
    "            self.add(mb.Particle(name=\"C\", pos=[i,0,0]))\n",
    "            if i>0:\n",
    "                self.add_bond((self[-2],self[-1]))\n",
    "            #self.point_a = self.[0]\n",
    "            #self.point_b = self.[-1]\n",
    "\n",
    "CarbonBond = CC()\n",
    "CarbonBond.visualize(show_ports=True)"
   ]
  },
  {
   "cell_type": "code",
   "execution_count": 97,
   "id": "0cf24594-ae88-4959-8555-4774cb4d31f9",
   "metadata": {},
   "outputs": [
    {
     "name": "stdout",
     "output_type": "stream",
     "text": [
      "9.0\n"
     ]
    }
   ],
   "source": [
    "def end_to_end_distance(molecule):\n",
    "    point_a = molecule[0].pos\n",
    "    point_b = molecule[-1].pos\n",
    "    return np.sqrt(sum((point_a - point_b)**2))\n",
    "\n",
    "distance = end_to_end_distance(CarbonBond)\n",
    "print(distance)"
   ]
  },
  {
   "cell_type": "code",
   "execution_count": null,
   "id": "48567f59-8831-4624-af55-ac2b6ddbd26e",
   "metadata": {},
   "outputs": [],
   "source": []
  }
 ],
 "metadata": {
  "kernelspec": {
   "display_name": "Python 3 (ipykernel)",
   "language": "python",
   "name": "python3"
  },
  "language_info": {
   "codemirror_mode": {
    "name": "ipython",
    "version": 3
   },
   "file_extension": ".py",
   "mimetype": "text/x-python",
   "name": "python",
   "nbconvert_exporter": "python",
   "pygments_lexer": "ipython3",
   "version": "3.12.0"
  }
 },
 "nbformat": 4,
 "nbformat_minor": 5
}
