{
 "cells": [
  {
   "cell_type": "code",
   "execution_count": 1,
   "id": "4bf428b7-6ae6-464f-8ac8-a4e18e2ec71c",
   "metadata": {},
   "outputs": [
    {
     "name": "stderr",
     "output_type": "stream",
     "text": [
      "/Users/joselyngutierrez/miniconda3/lib/python3.12/site-packages/foyer/forcefield.py:34: DeprecationWarning: pkg_resources is deprecated as an API. See https://setuptools.pypa.io/en/latest/pkg_resources.html\n",
      "  from pkg_resources import iter_entry_points, resource_filename\n",
      "/Users/joselyngutierrez/miniconda3/lib/python3.12/site-packages/mbuild/packing.py:23: DeprecationWarning: Use shutil.which instead of find_executable\n",
      "  PACKMOL = find_executable(\"packmol\")\n"
     ]
    }
   ],
   "source": [
    "import itertools\n",
    "import math\n",
    "import gsd.hoomd\n",
    "import hoomd\n",
    "import numpy\n",
    "import mbuild as mb\n",
    "import numpy as np\n",
    "\n",
    "class CC(mb.Compound):\n",
    "    def __init__(self):\n",
    "        super(CC, self).__init__()\n",
    "\n",
    "        for i in range(10):\n",
    "            self.add(mb.Particle(name=\"C\", pos=[i,0,0]))\n",
    "            if i>0:\n",
    "                self.add_bond((self[-2],self[-1]))\n",
    "\n",
    "CarbonBond = CC()\n",
    "CarbonBond.visualize(show_ports=True)\n",
    "CarbonBond.save('initial-state.gsd', overwrite=True)"
   ]
  },
  {
   "cell_type": "code",
   "execution_count": 2,
   "id": "5c6533f8-cef1-4586-a20c-d3518f19efdf",
   "metadata": {},
   "outputs": [
    {
     "name": "stderr",
     "output_type": "stream",
     "text": [
      "/Users/joselyngutierrez/miniconda3/lib/python3.12/pty.py:95: DeprecationWarning: This process (pid=67538) is multi-threaded, use of forkpty() may lead to deadlocks in the child.\n",
      "  pid, fd = os.forkpty()\n",
      "/Users/joselyngutierrez/miniconda3/lib/python3.12/pty.py:95: DeprecationWarning: This process (pid=67538) is multi-threaded, use of forkpty() may lead to deadlocks in the child.\n",
      "  pid, fd = os.forkpty()\n"
     ]
    }
   ],
   "source": [
    "import os\n",
    "\n",
    "fn = os.path.join(os.getcwd(), \"lattice.gsd\")\n",
    "![ -e \"$fn\" ] && rm \"$fn\"\n",
    "fn = os.path.join(os.getcwd(), \"random.gsd\")\n",
    "![ -e \"$fn\" ] && rm \"$fn\""
   ]
  },
  {
   "cell_type": "code",
   "execution_count": 3,
   "id": "a2a6ea20-0f81-4863-815d-75e794b5c3d0",
   "metadata": {},
   "outputs": [],
   "source": [
    "# This is not intended as a full tutorial on fresnel - see the fresnel user\n",
    "# documentation (https://fresnel.readthedocs.io/) if you would like to learn more.\n",
    "\n",
    "import warnings\n",
    "\n",
    "import fresnel\n",
    "import IPython\n",
    "import packaging.version\n",
    "\n",
    "device = fresnel.Device()\n",
    "tracer = fresnel.tracer.Path(device=device, w=300, h=300)\n",
    "\n",
    "FRESNEL_MIN_VERSION = packaging.version.parse(\"0.13.0\")\n",
    "FRESNEL_MAX_VERSION = packaging.version.parse(\"0.14.0\")\n",
    "\n",
    "\n",
    "def render(snapshot):\n",
    "    if (\n",
    "        \"version\" not in dir(fresnel)\n",
    "        or packaging.version.parse(fresnel.version.version) < FRESNEL_MIN_VERSION\n",
    "        or packaging.version.parse(fresnel.version.version) >= FRESNEL_MAX_VERSION\n",
    "    ):\n",
    "        warnings.warn(\n",
    "            f\"Unsupported fresnel version {fresnel.version.version} - expect errors.\"\n",
    "        )\n",
    "    L = snapshot.configuration.box[0]\n",
    "    scene = fresnel.Scene(device)\n",
    "    geometry = fresnel.geometry.Sphere(\n",
    "        scene, N=len(snapshot.particles.position), radius=0.5\n",
    "    )\n",
    "    geometry.material = fresnel.material.Material(\n",
    "        color=fresnel.color.linear([252 / 255, 209 / 255, 1 / 255]), roughness=0.5\n",
    "    )\n",
    "    geometry.position[:] = snapshot.particles.position[:]\n",
    "    geometry.outline_width = 0.04\n",
    "    fresnel.geometry.Box(scene, [L, L, L, 0, 0, 0], box_radius=0.02)\n",
    "\n",
    "    scene.lights = [\n",
    "        fresnel.light.Light(direction=(0, 0, 1), color=(0.8, 0.8, 0.8), theta=math.pi),\n",
    "        fresnel.light.Light(\n",
    "            direction=(1, 1, 1), color=(1.1, 1.1, 1.1), theta=math.pi / 3\n",
    "        ),\n",
    "    ]\n",
    "    scene.camera = fresnel.camera.Orthographic(\n",
    "        position=(L * 2, L, L * 2), look_at=(0, 0, 0), up=(0, 1, 0), height=L * 1.4 + 1\n",
    "    )\n",
    "    scene.background_alpha = 1\n",
    "    scene.background_color = (1, 1, 1)\n",
    "    samples = 2000\n",
    "    if \"CI\" in os.environ:\n",
    "        samples = 100\n",
    "    return IPython.display.Image(tracer.sample(scene, samples=samples)._repr_png_())"
   ]
  },
  {
   "cell_type": "code",
   "execution_count": 4,
   "id": "12eb295c-f1a0-41b1-94ec-d1cd957f18cb",
   "metadata": {},
   "outputs": [],
   "source": [
    "cpu = hoomd.device.CPU()\n",
    "simulation = hoomd.Simulation(device=cpu, seed=1)\n",
    "simulation.create_state_from_gsd(filename='initial-state.gsd')"
   ]
  },
  {
   "cell_type": "code",
   "execution_count": 5,
   "id": "4f240023-b54a-4093-98e3-40be1381d9a9",
   "metadata": {},
   "outputs": [],
   "source": [
    "integrator = hoomd.md.Integrator(dt=0.005)\n",
    "cell = hoomd.md.nlist.Cell(buffer=0.4)\n",
    "lj = hoomd.md.pair.LJ(nlist=cell)\n",
    "lj.params[('C', 'C')] = dict(epsilon=1, sigma=1)\n",
    "lj.r_cut[('C', 'C')] = 2.5\n",
    "integrator.forces.append(lj)\n",
    "nvt = hoomd.md.methods.ConstantVolume(\n",
    "    filter=hoomd.filter.All(), thermostat=hoomd.md.methods.thermostats.Bussi(kT=1.5)\n",
    ")\n",
    "integrator.methods.append(nvt)"
   ]
  },
  {
   "cell_type": "code",
   "execution_count": 6,
   "id": "e4f1b966-6d83-407c-993c-825ebe9e07c1",
   "metadata": {},
   "outputs": [],
   "source": [
    "simulation.operations.integrator = integrator"
   ]
  },
  {
   "cell_type": "code",
   "execution_count": 7,
   "id": "fbc53719-1832-4040-9a52-21a13de7da55",
   "metadata": {},
   "outputs": [
    {
     "data": {
      "text/plain": [
       "array([[0., 0., 0.],\n",
       "       [0., 0., 0.],\n",
       "       [0., 0., 0.],\n",
       "       [0., 0., 0.],\n",
       "       [0., 0., 0.]])"
      ]
     },
     "execution_count": 7,
     "metadata": {},
     "output_type": "execute_result"
    }
   ],
   "source": [
    "snapshot = simulation.state.get_snapshot()\n",
    "snapshot.particles.velocity[0:5]"
   ]
  },
  {
   "cell_type": "code",
   "execution_count": 8,
   "id": "a7910f75-12de-4a92-9399-9e1b58dc8a2b",
   "metadata": {},
   "outputs": [],
   "source": [
    "simulation.state.thermalize_particle_momenta(filter=hoomd.filter.All(), kT=1.5)"
   ]
  },
  {
   "cell_type": "code",
   "execution_count": 9,
   "id": "3755fb8e-1177-46b1-bce4-fd813501dd20",
   "metadata": {},
   "outputs": [],
   "source": [
    "thermodynamic_properties = hoomd.md.compute.ThermodynamicQuantities(\n",
    "    filter=hoomd.filter.All()\n",
    ")"
   ]
  },
  {
   "cell_type": "code",
   "execution_count": 10,
   "id": "49de7440-8129-45ae-ae34-63bc0517fb52",
   "metadata": {},
   "outputs": [],
   "source": [
    "simulation.operations.computes.append(thermodynamic_properties)\n",
    "simulation.run(0)"
   ]
  },
  {
   "cell_type": "code",
   "execution_count": 11,
   "id": "ccef4849-8857-456f-8047-931394a9e1b4",
   "metadata": {},
   "outputs": [],
   "source": [
    "simulation.run(10000)"
   ]
  },
  {
   "cell_type": "code",
   "execution_count": 12,
   "id": "59841187-2525-47ec-b405-121eb8e92fac",
   "metadata": {},
   "outputs": [
    {
     "data": {
      "image/png": "[encoded data removed]",
      "text/plain": [
       "<IPython.core.display.Image object>"
      ]
     },
     "execution_count": 12,
     "metadata": {},
     "output_type": "execute_result"
    }
   ],
   "source": [
    "render(simulation.state.get_snapshot())"
   ]
  },
  {
   "cell_type": "code",
   "execution_count": 22,
   "id": "4f3de35c-df7b-4525-a29d-4191628e20f7",
   "metadata": {},
   "outputs": [],
   "source": [
    "hoomd.write.GSD.write(state=simulation.state, filename='random.gsd', mode='xb')"
   ]
  },
  {
   "cell_type": "code",
   "execution_count": null,
   "id": "0cf24594-ae88-4959-8555-4774cb4d31f9",
   "metadata": {},
   "outputs": [],
   "source": [
    "def end_to_end_distance(molecule):\n",
    "    point_a = molecule[0].pos\n",
    "    point_b = molecule[-1].pos\n",
    "    return np.linalg.norm(point_a - point_b)\n",
    "\n",
    "distance = end_to_end_distance(CarbonBond)\n",
    "print(distance)"
   ]
  },
  {
   "cell_type": "code",
   "execution_count": null,
   "id": "720b14e9-1e08-4cd7-be54-36a9f35b3994",
   "metadata": {},
   "outputs": [],
   "source": []
  }
 ],
 "metadata": {
  "kernelspec": {
   "display_name": "Python 3 (ipykernel)",
   "language": "python",
   "name": "python3"
  },
  "language_info": {
   "codemirror_mode": {
    "name": "ipython",
    "version": 3
   },
   "file_extension": ".py",
   "mimetype": "text/x-python",
   "name": "python",
   "nbconvert_exporter": "python",
   "pygments_lexer": "ipython3",
   "version": "3.12.0"
  }
 },
 "nbformat": 4,
 "nbformat_minor": 5
}
