{
 "cells": [
  {
   "cell_type": "code",
   "execution_count": null,
   "id": "4bf428b7-6ae6-464f-8ac8-a4e18e2ec71c",
   "metadata": {},
   "outputs": [],
   "source": [
    "import itertools\n",
    "import math\n",
    "import gsd.hoomd\n",
    "import hoomd\n",
    "import numpy\n",
    "import mbuild as mb\n",
    "import numpy as np\n",
    "\n",
    "class CC(mb.Compound):\n",
    "    def __init__(self):\n",
    "        super(CC, self).__init__()\n",
    "\n",
    "        for i in range(10):\n",
    "            self.add(mb.Particle(name=\"C\", pos=[i,0,0]))\n",
    "            if i>0:\n",
    "                self.add_bond((self[-2],self[-1]))\n",
    "\n",
    "CarbonBond = CC()\n",
    "target_box = mb.Box(lengths=[9.0, 9.0, 9.0])\n",
    "filled_box = mb.fill_box(CarbonBond,\n",
    "                         n_compounds=2,\n",
    "                         box=target_box,\n",
    "                         fix_orientation=False,\n",
    "                         seed=7\n",
    "                        )\n",
    "filled_box.save('initial-state.gsd', overwrite=True)"
   ]
  },
  {
   "cell_type": "code",
   "execution_count": null,
   "id": "d35e118d-cae6-476e-9b95-5d76c08a9378",
   "metadata": {},
   "outputs": [],
   "source": [
    "filled_box.visualize(show_ports=True)"
   ]
  },
  {
   "cell_type": "code",
   "execution_count": null,
   "id": "a2a6ea20-0f81-4863-815d-75e794b5c3d0",
   "metadata": {},
   "outputs": [],
   "source": [
    "import os\n",
    "import warnings\n",
    "\n",
    "import fresnel\n",
    "import IPython\n",
    "import packaging.version\n",
    "\n",
    "device = fresnel.Device()\n",
    "tracer = fresnel.tracer.Path(device=device, w=300, h=300)\n",
    "\n",
    "FRESNEL_MIN_VERSION = packaging.version.parse(\"0.13.0\")\n",
    "FRESNEL_MAX_VERSION = packaging.version.parse(\"0.14.0\")\n",
    "\n",
    "\n",
    "def render(snapshot):\n",
    "    if (\n",
    "        \"version\" not in dir(fresnel)\n",
    "        or packaging.version.parse(fresnel.version.version) < FRESNEL_MIN_VERSION\n",
    "        or packaging.version.parse(fresnel.version.version) >= FRESNEL_MAX_VERSION\n",
    "    ):\n",
    "        warnings.warn(\n",
    "            f\"Unsupported fresnel version {fresnel.version.version} - expect errors.\"\n",
    "        )\n",
    "    L = snapshot.configuration.box[0]\n",
    "    scene = fresnel.Scene(device)\n",
    "    geometry = fresnel.geometry.Sphere(\n",
    "        scene, N=len(snapshot.particles.position), radius=0.5\n",
    "    )\n",
    "    geometry.material = fresnel.material.Material(\n",
    "        color=fresnel.color.linear([252 / 255, 209 / 255, 1 / 255]), roughness=0.5\n",
    "    )\n",
    "    geometry.position[:] = snapshot.particles.position[:]\n",
    "    geometry.outline_width = 0.04\n",
    "    fresnel.geometry.Box(scene, [L, L, L, 0, 0, 0], box_radius=0.02)\n",
    "\n",
    "    scene.lights = [\n",
    "        fresnel.light.Light(direction=(0, 0, 1), color=(0.8, 0.8, 0.8), theta=math.pi),\n",
    "        fresnel.light.Light(\n",
    "            direction=(1, 1, 1), color=(1.1, 1.1, 1.1), theta=math.pi / 3\n",
    "        ),\n",
    "    ]\n",
    "    scene.camera = fresnel.camera.Orthographic(\n",
    "        position=(L * 2, L, L * 2), look_at=(0, 0, 0), up=(0, 1, 0), height=L * 1.4 + 1\n",
    "    )\n",
    "    scene.background_alpha = 1\n",
    "    scene.background_color = (1, 1, 1)\n",
    "    samples = 2000\n",
    "    if \"CI\" in os.environ:\n",
    "        samples = 100\n",
    "    return IPython.display.Image(tracer.sample(scene, samples=samples)._repr_png_())"
   ]
  },
  {
   "cell_type": "code",
   "execution_count": null,
   "id": "12eb295c-f1a0-41b1-94ec-d1cd957f18cb",
   "metadata": {},
   "outputs": [],
   "source": [
    "cpu = hoomd.device.CPU()\n",
    "simulation = hoomd.Simulation(device=cpu, seed=1)\n",
    "simulation.create_state_from_gsd(filename='initial-state.gsd')"
   ]
  },
  {
   "cell_type": "code",
   "execution_count": null,
   "id": "4f240023-b54a-4093-98e3-40be1381d9a9",
   "metadata": {},
   "outputs": [],
   "source": [
    "integrator = hoomd.md.Integrator(dt=0.005)\n",
    "cell = hoomd.md.nlist.Cell(buffer=0.4)\n",
    "lj = hoomd.md.pair.LJ(nlist=cell)\n",
    "lj.params[('C', 'C')] = dict(epsilon=1, sigma=1)\n",
    "lj.r_cut[('C', 'C')] = 2.5\n",
    "integrator.forces.append(lj)\n",
    "nvt = hoomd.md.methods.ConstantVolume(\n",
    "    filter=hoomd.filter.All(), thermostat=hoomd.md.methods.thermostats.Bussi(kT=1.5)\n",
    ")\n",
    "integrator.methods.append(nvt)"
   ]
  },
  {
   "cell_type": "code",
   "execution_count": null,
   "id": "e4f1b966-6d83-407c-993c-825ebe9e07c1",
   "metadata": {},
   "outputs": [],
   "source": [
    "simulation.operations.integrator = integrator"
   ]
  },
  {
   "cell_type": "code",
   "execution_count": null,
   "id": "fbc53719-1832-4040-9a52-21a13de7da55",
   "metadata": {},
   "outputs": [],
   "source": [
    "snapshot = simulation.state.get_snapshot()\n",
    "snapshot.particles.velocity[0:5]"
   ]
  },
  {
   "cell_type": "code",
   "execution_count": null,
   "id": "a7910f75-12de-4a92-9399-9e1b58dc8a2b",
   "metadata": {},
   "outputs": [],
   "source": [
    "simulation.state.thermalize_particle_momenta(filter=hoomd.filter.All(), kT=1.5)"
   ]
  },
  {
   "cell_type": "code",
   "execution_count": null,
   "id": "3755fb8e-1177-46b1-bce4-fd813501dd20",
   "metadata": {},
   "outputs": [],
   "source": [
    "thermodynamic_properties = hoomd.md.compute.ThermodynamicQuantities(\n",
    "    filter=hoomd.filter.All()\n",
    ")"
   ]
  },
  {
   "cell_type": "code",
   "execution_count": null,
   "id": "49de7440-8129-45ae-ae34-63bc0517fb52",
   "metadata": {},
   "outputs": [],
   "source": [
    "simulation.operations.computes.append(thermodynamic_properties)\n",
    "simulation.run(0)"
   ]
  },
  {
   "cell_type": "code",
   "execution_count": null,
   "id": "ccef4849-8857-456f-8047-931394a9e1b4",
   "metadata": {},
   "outputs": [],
   "source": [
    "simulation.run(10000)"
   ]
  },
  {
   "cell_type": "code",
   "execution_count": null,
   "id": "59841187-2525-47ec-b405-121eb8e92fac",
   "metadata": {},
   "outputs": [],
   "source": [
    "render(simulation.state.get_snapshot())"
   ]
  },
  {
   "cell_type": "code",
   "execution_count": null,
   "id": "4f3de35c-df7b-4525-a29d-4191628e20f7",
   "metadata": {},
   "outputs": [],
   "source": [
    "hoomd.write.GSD.write(state=simulation.state, filename='random.gsd', mode='wb')"
   ]
  },
  {
   "cell_type": "code",
   "execution_count": null,
   "id": "2f85e028-7aa4-4c71-8164-d1568f731569",
   "metadata": {},
   "outputs": [],
   "source": [
    "rho = simulation.state.N_particles / simulation.state.box.volume\n",
    "print(simulation.state.N_particles,rho)"
   ]
  },
  {
   "cell_type": "code",
   "execution_count": null,
   "id": "ff10435d-9c71-475a-b9f3-36b44c5797ae",
   "metadata": {},
   "outputs": [],
   "source": [
    "final_rho = 0.1\n",
    "final_volume = simulation.state.N_particles / final_rho"
   ]
  },
  {
   "cell_type": "code",
   "execution_count": null,
   "id": "3157b014-d5f8-4c09-8e95-0b72ccf6e754",
   "metadata": {},
   "outputs": [],
   "source": [
    "inverse_volume_ramp = hoomd.variant.box.InverseVolumeRamp(\n",
    "    initial_box=simulation.state.box,\n",
    "    final_volume=final_volume,\n",
    "    t_start=simulation.timestep,\n",
    "    t_ramp=20000,\n",
    ")"
   ]
  },
  {
   "cell_type": "code",
   "execution_count": null,
   "id": "2ba6db99-ecf8-443f-8f75-05b619bec310",
   "metadata": {},
   "outputs": [],
   "source": [
    "box_resize = hoomd.update.BoxResize(\n",
    "    trigger=hoomd.trigger.Periodic(10),\n",
    "    box=inverse_volume_ramp,\n",
    ")\n",
    "simulation.operations.updaters.append(box_resize)"
   ]
  },
  {
   "cell_type": "code",
   "execution_count": null,
   "id": "b84f3574-1d7f-480c-8c3f-69967069921d",
   "metadata": {},
   "outputs": [],
   "source": [
    "simulation.run(20001)"
   ]
  },
  {
   "cell_type": "code",
   "execution_count": null,
   "id": "ba26f01a-9037-4541-a2a5-7541288c7f94",
   "metadata": {},
   "outputs": [],
   "source": [
    "simulation.state.N_particles / simulation.state.box.volume"
   ]
  },
  {
   "cell_type": "code",
   "execution_count": null,
   "id": "2709a222-e660-4227-9747-793559d81daa",
   "metadata": {},
   "outputs": [],
   "source": [
    "render(simulation.state.get_snapshot())"
   ]
  },
  {
   "cell_type": "code",
   "execution_count": null,
   "id": "81154afd-aa28-4708-8557-875f8d8d1c91",
   "metadata": {},
   "outputs": [],
   "source": [
    "simulation.operations.updaters.remove(box_resize)"
   ]
  },
  {
   "cell_type": "code",
   "execution_count": null,
   "id": "d3b6a82a-536a-4b1e-a7e0-f2ae778cafd4",
   "metadata": {},
   "outputs": [],
   "source": [
    "simulation.run(5e5)"
   ]
  },
  {
   "cell_type": "code",
   "execution_count": null,
   "id": "9aa69ae6-e854-40a5-ad06-93cd089e7817",
   "metadata": {},
   "outputs": [],
   "source": [
    "render(simulation.state.get_snapshot())"
   ]
  },
  {
   "cell_type": "code",
   "execution_count": null,
   "id": "0cf24594-ae88-4959-8555-4774cb4d31f9",
   "metadata": {},
   "outputs": [],
   "source": [
    "def end_to_end_distance(molecule):\n",
    "    point_a = molecule[0].pos\n",
    "    point_b = molecule[-1].pos\n",
    "    return np.linalg.norm(point_a - point_b)\n",
    "\n",
    "distance = end_to_end_distance(CarbonBond)\n",
    "print(distance)"
   ]
  }
 ],
 "metadata": {
  "kernelspec": {
   "display_name": "Python 3 (ipykernel)",
   "language": "python",
   "name": "python3"
  },
  "language_info": {
   "codemirror_mode": {
    "name": "ipython",
    "version": 3
   },
   "file_extension": ".py",
   "mimetype": "text/x-python",
   "name": "python",
   "nbconvert_exporter": "python",
   "pygments_lexer": "ipython3",
   "version": "3.12.0"
  }
 },
 "nbformat": 4,
 "nbformat_minor": 5
}
